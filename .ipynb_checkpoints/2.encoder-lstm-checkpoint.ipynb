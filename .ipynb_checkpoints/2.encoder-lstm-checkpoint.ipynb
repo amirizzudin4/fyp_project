{
 "cells": [
  {
   "cell_type": "code",
   "execution_count": 1,
   "metadata": {},
   "outputs": [
    {
     "ename": "ImportError",
     "evalue": "No module named 'model'",
     "output_type": "error",
     "traceback": [
      "\u001b[1;31m---------------------------------------------------------------------------\u001b[0m",
      "\u001b[1;31mImportError\u001b[0m                               Traceback (most recent call last)",
      "\u001b[1;32m<ipython-input-1-34b6ef961736>\u001b[0m in \u001b[0;36m<module>\u001b[1;34m()\u001b[0m\n\u001b[0;32m      5\u001b[0m \u001b[1;32mimport\u001b[0m \u001b[0mpandas\u001b[0m \u001b[1;32mas\u001b[0m \u001b[0mpd\u001b[0m\u001b[1;33m\u001b[0m\u001b[0m\n\u001b[0;32m      6\u001b[0m \u001b[1;32mfrom\u001b[0m \u001b[0msklearn\u001b[0m\u001b[1;33m.\u001b[0m\u001b[0mpreprocessing\u001b[0m \u001b[1;32mimport\u001b[0m \u001b[0mMinMaxScaler\u001b[0m\u001b[1;33m\u001b[0m\u001b[0m\n\u001b[1;32m----> 7\u001b[1;33m \u001b[1;32mimport\u001b[0m \u001b[0mmodel\u001b[0m\u001b[1;33m\u001b[0m\u001b[0m\n\u001b[0m\u001b[0;32m      8\u001b[0m \u001b[1;32mfrom\u001b[0m \u001b[0mdatetime\u001b[0m \u001b[1;32mimport\u001b[0m \u001b[0mdatetime\u001b[0m\u001b[1;33m\u001b[0m\u001b[0m\n\u001b[0;32m      9\u001b[0m \u001b[1;32mfrom\u001b[0m \u001b[0mdatetime\u001b[0m \u001b[1;32mimport\u001b[0m \u001b[0mtimedelta\u001b[0m\u001b[1;33m\u001b[0m\u001b[0m\n",
      "\u001b[1;31mImportError\u001b[0m: No module named 'model'"
     ]
    }
   ],
   "source": [
    "import tensorflow as tf\n",
    "import numpy as np\n",
    "import matplotlib.pyplot as plt\n",
    "import seaborn as sns\n",
    "import pandas as pd\n",
    "from sklearn.preprocessing import MinMaxScaler\n",
    "# import model\n",
    "from datetime import datetime\n",
    "from datetime import timedelta\n",
    "import requests\n",
    "import urllib\n",
    "import lxml\n",
    "from bs4 import BeautifulSoup\n",
    "from bs4 import NavigableString\n",
    "sns.set()"
   ]
  },
  {
   "cell_type": "code",
   "execution_count": null,
   "metadata": {},
   "outputs": [],
   "source": [
    "url=\"https://finance.yahoo.com/quote/FB/history?p=FB\"\n",
    "request = requests.get(url)\n",
    "soup = BeautifulSoup(request.text, 'html.parser')\n",
    "table_big = soup.find('table', attrs={'data-test':'historical-prices'})\n",
    "soup.find('tfoot').decompose()"
   ]
  },
  {
   "cell_type": "code",
   "execution_count": null,
   "metadata": {},
   "outputs": [],
   "source": [
    "print(table_big)"
   ]
  },
  {
   "cell_type": "code",
   "execution_count": null,
   "metadata": {},
   "outputs": [],
   "source": [
    "rs = pd.read_html(str(table_big))\n",
    "rs = rs[0].to_json(orient='records')\n",
    "print(rs)"
   ]
  },
  {
   "cell_type": "code",
   "execution_count": null,
   "metadata": {},
   "outputs": [],
   "source": [
    "df = pd.read_json(rs)\n",
    "date_ori = pd.to_datetime(df.iloc[:, 0]).tolist()\n",
    "df.head()"
   ]
  },
  {
   "cell_type": "code",
   "execution_count": null,
   "metadata": {},
   "outputs": [],
   "source": [
    "minmax = MinMaxScaler().fit(df.iloc[:, 1:].astype('float32'))\n",
    "df_log = minmax.transform(df.iloc[:, 1:].astype('float32'))\n",
    "df_log = pd.DataFrame(df_log)\n",
    "df_log.head()"
   ]
  },
  {
   "cell_type": "code",
   "execution_count": null,
   "metadata": {},
   "outputs": [],
   "source": [
    "thought_vector = autoencoder.reducedimension(df_log.values, 16, 0.001, 128, 100)"
   ]
  },
  {
   "cell_type": "code",
   "execution_count": null,
   "metadata": {},
   "outputs": [],
   "source": [
    "thought_vector.shape"
   ]
  },
  {
   "cell_type": "code",
   "execution_count": null,
   "metadata": {},
   "outputs": [],
   "source": [
    "num_layers = 1\n",
    "size_layer = 128\n",
    "timestamp = 5\n",
    "epoch = 500\n",
    "dropout_rate = 0.1"
   ]
  },
  {
   "cell_type": "code",
   "execution_count": null,
   "metadata": {},
   "outputs": [],
   "source": [
    "tf.reset_default_graph()\n",
    "modelnn = model.Model(0.001, num_layers, thought_vector.shape[1], size_layer, df_log.shape[1], dropout_rate)\n",
    "sess = tf.InteractiveSession()\n",
    "sess.run(tf.global_variables_initializer())\n",
    "for i in range(epoch):\n",
    "    init_value = np.zeros((1, num_layers * 2 * size_layer))\n",
    "    total_loss = 0\n",
    "    for k in range(0, (df_log.shape[0] // timestamp) * timestamp, timestamp):\n",
    "        batch_x = np.expand_dims(thought_vector[k: k + timestamp, :], axis = 0)\n",
    "        batch_y = df_log.iloc[k + 1: k + timestamp + 1, :].values\n",
    "        last_state, _, loss = sess.run([modelnn.last_state, \n",
    "                                        modelnn.optimizer, \n",
    "                                        modelnn.cost], feed_dict={modelnn.X: batch_x, \n",
    "                                                                  modelnn.Y: batch_y, \n",
    "                                                                  modelnn.hidden_layer: init_value})\n",
    "        loss = np.mean(loss)\n",
    "        init_value = last_state\n",
    "        total_loss += loss\n",
    "    total_loss /= (df_log.shape[0] // timestamp)\n",
    "    if (i + 1) % 100 == 0:\n",
    "        print('epoch:', i + 1, 'avg loss:', total_loss)"
   ]
  },
  {
   "cell_type": "code",
   "execution_count": null,
   "metadata": {},
   "outputs": [],
   "source": [
    "output_predict = np.zeros((df_log.shape[0] + 1, df_log.shape[1]))\n",
    "output_predict[0, :] = df_log.iloc[0, :]\n",
    "upper_b = (df_log.shape[0] // timestamp) * timestamp\n",
    "init_value = np.zeros((1, num_layers * 2 * size_layer))\n",
    "for k in range(0, (df_log.shape[0] // timestamp) * timestamp, timestamp):\n",
    "    out_logits, last_state = sess.run([modelnn.logits, modelnn.last_state], feed_dict = {modelnn.X:np.expand_dims(thought_vector[k: k + timestamp, :], axis = 0),\n",
    "                                     modelnn.hidden_layer: init_value})\n",
    "    init_value = last_state\n",
    "    output_predict[k + 1: k + timestamp + 1, :] = out_logits\n",
    "    \n",
    "out_logits, last_state = sess.run([modelnn.logits, modelnn.last_state], feed_dict = {modelnn.X:np.expand_dims(thought_vector[upper_b: , :], axis = 0),\n",
    "                                     modelnn.hidden_layer: init_value})\n",
    "init_value = last_state\n",
    "output_predict[upper_b + 1: df_log.shape[0] + 1, :] = out_logits\n",
    "df_log.loc[df_log.shape[0]] = out_logits[-1, :]\n",
    "date_ori.append(date_ori[-1]+timedelta(days=1))"
   ]
  },
  {
   "cell_type": "code",
   "execution_count": null,
   "metadata": {},
   "outputs": [],
   "source": [
    "df_log = minmax.inverse_transform(output_predict)\n",
    "date_ori=pd.Series(date_ori).dt.strftime(date_format='%Y-%m-%d').tolist()"
   ]
  },
  {
   "cell_type": "code",
   "execution_count": null,
   "metadata": {},
   "outputs": [],
   "source": [
    "current_palette = sns.color_palette(\"Paired\", 12)\n",
    "fig = plt.figure(figsize = (15,10))\n",
    "ax = plt.subplot(111)\n",
    "x_range_original = np.arange(df.shape[0])\n",
    "x_range_future = np.arange(df_log.shape[0])\n",
    "ax.plot(x_range_original, df.iloc[:, 1], label = 'true Open', color = current_palette[0])\n",
    "ax.plot(x_range_future, df_log[:, 0], label = 'predict Open', color = current_palette[1])\n",
    "ax.plot(x_range_original, df.iloc[:, 2], label = 'true High', color = current_palette[2])\n",
    "ax.plot(x_range_future, df_log[:, 1], label = 'predict High', color = current_palette[3])\n",
    "ax.plot(x_range_original, df.iloc[:, 3], label = 'true Low', color = current_palette[4])\n",
    "ax.plot(x_range_future, df_log[:, 2], label = 'predict Low', color = current_palette[5])\n",
    "ax.plot(x_range_original, df.iloc[:, 4], label = 'true Close', color = current_palette[6])\n",
    "ax.plot(x_range_future, df_log[:, 3], label = 'predict Close', color = current_palette[7])\n",
    "ax.plot(x_range_original, df.iloc[:, 5], label = 'true Adj Close', color = current_palette[8])\n",
    "ax.plot(x_range_future, df_log[:, 4], label = 'predict Adj Close', color = current_palette[9])\n",
    "box = ax.get_position()\n",
    "ax.set_position([box.x0, box.y0 + box.height * 0.1, box.width, box.height * 0.9])\n",
    "ax.legend(loc = 'upper center', bbox_to_anchor= (0.5, -0.05), fancybox = True, shadow = True, ncol = 5)\n",
    "plt.title('overlap stock market')\n",
    "plt.xticks(x_range_future[::30], date_ori[::30])\n",
    "plt.show()"
   ]
  },
  {
   "cell_type": "code",
   "execution_count": null,
   "metadata": {},
   "outputs": [],
   "source": []
  },
  {
   "cell_type": "code",
   "execution_count": null,
   "metadata": {},
   "outputs": [],
   "source": []
  }
 ],
 "metadata": {
  "kernelspec": {
   "display_name": "Python 3",
   "language": "python",
   "name": "python3"
  }
 },
 "nbformat": 4,
 "nbformat_minor": 2
}
